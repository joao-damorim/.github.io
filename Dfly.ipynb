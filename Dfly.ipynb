{
  "nbformat": 4,
  "nbformat_minor": 0,
  "metadata": {
    "colab": {
      "name": "Dfly.ipynb",
      "version": "0.3.2",
      "provenance": [],
      "collapsed_sections": [],
      "include_colab_link": true
    },
    "kernelspec": {
      "name": "python3",
      "display_name": "Python 3"
    }
  },
  "cells": [
    {
      "cell_type": "markdown",
      "metadata": {
        "id": "view-in-github",
        "colab_type": "text"
      },
      "source": [
        "<a href=\"https://colab.research.google.com/github/joao-damorim/.github.io/blob/master/Dfly.ipynb\" target=\"_parent\"><img src=\"https://colab.research.google.com/assets/colab-badge.svg\" alt=\"Open In Colab\"/></a>"
      ]
    },
    {
      "cell_type": "code",
      "metadata": {
        "id": "GnlfI8Th0gxP",
        "colab_type": "code",
        "outputId": "792a9e1c-b445-4b38-91b3-e45ccd7ef2eb",
        "colab": {
          "base_uri": "https://localhost:8080/",
          "height": 122
        }
      },
      "source": [
        "from google.colab import drive \n",
        "drive.mount('/content/gdrive')"
      ],
      "execution_count": 1,
      "outputs": [
        {
          "output_type": "stream",
          "text": [
            "Go to this URL in a browser: https://accounts.google.com/o/oauth2/auth?client_id=947318989803-6bn6qk8qdgf4n4g3pfee6491hc0brc4i.apps.googleusercontent.com&redirect_uri=urn%3Aietf%3Awg%3Aoauth%3A2.0%3Aoob&scope=email%20https%3A%2F%2Fwww.googleapis.com%2Fauth%2Fdocs.test%20https%3A%2F%2Fwww.googleapis.com%2Fauth%2Fdrive%20https%3A%2F%2Fwww.googleapis.com%2Fauth%2Fdrive.photos.readonly%20https%3A%2F%2Fwww.googleapis.com%2Fauth%2Fpeopleapi.readonly&response_type=code\n",
            "\n",
            "Enter your authorization code:\n",
            "··········\n",
            "Mounted at /content/gdrive\n"
          ],
          "name": "stdout"
        }
      ]
    },
    {
      "cell_type": "code",
      "metadata": {
        "id": "lnqjNLbF2lW9",
        "colab_type": "code",
        "colab": {}
      },
      "source": [
        "import pandas as pd\n",
        "import numpy as np\n",
        "import matplotlib.pyplot as plt\n",
        "import seaborn as sns\n",
        "import folium\n",
        "from math import radians, cos, sin, asin, sqrt\n",
        "\n",
        "%matplotlib inline"
      ],
      "execution_count": 0,
      "outputs": []
    },
    {
      "cell_type": "code",
      "metadata": {
        "id": "Z6XwcoQp2wPZ",
        "colab_type": "code",
        "outputId": "5776b670-3b1f-4e6d-c7a7-2afc448040c7",
        "colab": {
          "base_uri": "https://localhost:8080/",
          "height": 170
        }
      },
      "source": [
        "df_ocorrencias = pd.read_csv('gdrive/My Drive/projetos/lp/oco.csv', sep='~', header=0,\\\n",
        "         usecols=['codigo_ocorrencia','ocorrencia_classificacao', 'ocorrencia_tipo', 'ocorrencia_uf',\\\n",
        "                 'ocorrencia_latitude', 'ocorrencia_longitude', 'ocorrencia_horario', 'ocorrencia_dia'])\n",
        "\n",
        "print(df_ocorrencias.head(5))\n",
        "print(df_ocorrencias.shape)"
      ],
      "execution_count": 3,
      "outputs": [
        {
          "output_type": "stream",
          "text": [
            "   codigo_ocorrencia ocorrencia_classificacao  ... ocorrencia_dia  ocorrencia_horario\n",
            "0    201305055424986                 ACIDENTE  ...     2013-05-05            11:00:00\n",
            "1    201805021421302                INCIDENTE  ...     2018-03-09            22:40:00\n",
            "2    201605160250139          INCIDENTE GRAVE  ...     2016-05-13            19:19:00\n",
            "3    201311259977425          INCIDENTE GRAVE  ...     2013-11-25            12:32:00\n",
            "4    200808073991179                 ACIDENTE  ...     2008-08-07            15:10:00\n",
            "\n",
            "[5 rows x 8 columns]\n",
            "(5733, 8)\n"
          ],
          "name": "stdout"
        }
      ]
    },
    {
      "cell_type": "code",
      "metadata": {
        "id": "gGMcDUX53LLo",
        "colab_type": "code",
        "outputId": "2fab7704-05cb-4b72-bdf4-acb5fa15c83c",
        "colab": {
          "base_uri": "https://localhost:8080/",
          "height": 170
        }
      },
      "source": [
        "df_ocorrencias_sudeste = df_ocorrencias.loc[df_ocorrencias['ocorrencia_uf'].isin(['ES','MG','RJ','SP'])]\n",
        "\n",
        "print(df_ocorrencias_sudeste.head(5))\n",
        "print(df_ocorrencias_sudeste.shape)"
      ],
      "execution_count": 4,
      "outputs": [
        {
          "output_type": "stream",
          "text": [
            "    codigo_ocorrencia  ... ocorrencia_horario\n",
            "21    201609131430542  ...           14:10:00\n",
            "22    201212272090341  ...           16:03:00\n",
            "23    200906128607729  ...           14:50:00\n",
            "24    201408227604299  ...           14:30:00\n",
            "25    200801159627220  ...           11:41:00\n",
            "\n",
            "[5 rows x 8 columns]\n",
            "(2536, 8)\n"
          ],
          "name": "stdout"
        }
      ]
    },
    {
      "cell_type": "code",
      "metadata": {
        "id": "6VZ_EwtJ3QzV",
        "colab_type": "code",
        "outputId": "80d92bb5-363c-4066-9270-2abe84732760",
        "colab": {
          "base_uri": "https://localhost:8080/",
          "height": 136
        }
      },
      "source": [
        "df_fatores_contribuintes = pd.read_csv('gdrive/My Drive/projetos/lp/ftc.csv', sep='~', header=0,\\\n",
        "        usecols=['codigo_ocorrencia', 'fator_nome'])\n",
        "\n",
        "print(df_fatores_contribuintes.head(5))\n",
        "print(df_fatores_contribuintes.shape)"
      ],
      "execution_count": 5,
      "outputs": [
        {
          "output_type": "stream",
          "text": [
            "   codigo_ocorrencia               fator_nome\n",
            "0    200801041545367      INDISCIPLINA DE VOO\n",
            "1    200801041545367                INSTRUÇÃO\n",
            "2    200801041545367   MANUTENÇÃO DE AERONAVE\n",
            "3    200801041545367              OUTRO FATOR\n",
            "4    200801058203864  JULGAMENTO DE PILOTAGEM\n",
            "(4800, 2)\n"
          ],
          "name": "stdout"
        }
      ]
    },
    {
      "cell_type": "code",
      "metadata": {
        "id": "Fp_3cWj33U0A",
        "colab_type": "code",
        "outputId": "5bfb14f3-709f-4f45-b144-dd962c6afbf5",
        "colab": {
          "base_uri": "https://localhost:8080/",
          "height": 170
        }
      },
      "source": [
        "df_aeronaves_envolvidas = pd.read_csv('gdrive/My Drive/projetos/lp/anv.csv', sep='~', header=0,\\\n",
        "        usecols=['codigo_ocorrencia', 'aeronave_tipo_veiculo', 'aeronave_fabricante',\\\n",
        "                'aeronave_modelo', 'aeronave_motor_tipo', 'aeronave_motor_quantidade',\\\n",
        "                        'aeronave_ano_fabricacao', 'aeronave_tipo_operacao', 'total_fatalidades'])\n",
        "\n",
        "print(df_aeronaves_envolvidas.head(5))\n",
        "print(df_aeronaves_envolvidas.shape)"
      ],
      "execution_count": 6,
      "outputs": [
        {
          "output_type": "stream",
          "text": [
            "   codigo_ocorrencia  ... total_fatalidades\n",
            "0    201106142171203  ...                 0\n",
            "1    200804256669287  ...                 0\n",
            "2    201205209591320  ...                 0\n",
            "3    201012015549851  ...                 0\n",
            "4    201708190325167  ...                 0\n",
            "\n",
            "[5 rows x 9 columns]\n",
            "(5794, 9)\n"
          ],
          "name": "stdout"
        }
      ]
    },
    {
      "cell_type": "code",
      "metadata": {
        "id": "Flc7gC9j3XhI",
        "colab_type": "code",
        "outputId": "9dd86631-af65-4054-fa02-aeac0b356bf7",
        "colab": {
          "base_uri": "https://localhost:8080/",
          "height": 170
        }
      },
      "source": [
        "df_ocorrencias_fatores_sudeste = pd.merge(df_ocorrencias_sudeste, df_fatores_contribuintes, on='codigo_ocorrencia', how='inner')\n",
        "\n",
        "print(df_ocorrencias_fatores_sudeste.head(5))\n",
        "print(df_ocorrencias_fatores_sudeste.shape)\n",
        "#print(df_ocorrencias_fatores_sudeste.describe())"
      ],
      "execution_count": 7,
      "outputs": [
        {
          "output_type": "stream",
          "text": [
            "   codigo_ocorrencia  ...                         fator_nome\n",
            "0    200801159627220  ...                            ATITUDE\n",
            "1    200801159627220  ...       CULTURA DO GRUPO DE TRABALHO\n",
            "2    200801159627220  ...          CARACTERÍSTICAS DA TAREFA\n",
            "3    200801159627220  ...  CONDIÇÕES METEOROLÓGICAS ADVERSAS\n",
            "4    200801159627220  ...                   PESSOAL DE APOIO\n",
            "\n",
            "[5 rows x 9 columns]\n",
            "(1300, 9)\n"
          ],
          "name": "stdout"
        }
      ]
    },
    {
      "cell_type": "code",
      "metadata": {
        "id": "6Ye8PAFI3fzC",
        "colab_type": "code",
        "outputId": "959fe238-ccf1-4f1d-d9e2-c700309457a2",
        "colab": {
          "base_uri": "https://localhost:8080/",
          "height": 170
        }
      },
      "source": [
        "df_ocorrencias_cond_met_sudeste = df_ocorrencias_fatores_sudeste.loc[df_ocorrencias_fatores_sudeste['fator_nome'].isin(['CONDIÇÕES METEOROLÓGICAS ADVERSAS'])]\n",
        "\n",
        "print(df_ocorrencias_cond_met_sudeste.head(5))\n",
        "print(df_ocorrencias_cond_met_sudeste.shape)\n"
      ],
      "execution_count": 8,
      "outputs": [
        {
          "output_type": "stream",
          "text": [
            "    codigo_ocorrencia  ...                         fator_nome\n",
            "3     200801159627220  ...  CONDIÇÕES METEOROLÓGICAS ADVERSAS\n",
            "6     201207125348634  ...  CONDIÇÕES METEOROLÓGICAS ADVERSAS\n",
            "46    200802265376981  ...  CONDIÇÕES METEOROLÓGICAS ADVERSAS\n",
            "74    201311205508363  ...  CONDIÇÕES METEOROLÓGICAS ADVERSAS\n",
            "92    200905142478810  ...  CONDIÇÕES METEOROLÓGICAS ADVERSAS\n",
            "\n",
            "[5 rows x 9 columns]\n",
            "(41, 9)\n"
          ],
          "name": "stdout"
        }
      ]
    },
    {
      "cell_type": "code",
      "metadata": {
        "id": "vu5IlkYN3h8Y",
        "colab_type": "code",
        "outputId": "a8f00dc0-1d0b-4a54-a5ce-afb22a12561a",
        "colab": {
          "base_uri": "https://localhost:8080/",
          "height": 170
        }
      },
      "source": [
        "df_ocorrencias_cond_met_aeronaves_sudeste = pd.merge(df_ocorrencias_cond_met_sudeste, df_aeronaves_envolvidas, on='codigo_ocorrencia', how='inner')\n",
        "\n",
        "print(df_ocorrencias_cond_met_aeronaves_sudeste.head(5))\n",
        "print(df_ocorrencias_cond_met_aeronaves_sudeste.shape)\n",
        "#print(df_ocorrencias_fatores_sudeste.describe())\n"
      ],
      "execution_count": 9,
      "outputs": [
        {
          "output_type": "stream",
          "text": [
            "   codigo_ocorrencia  ... total_fatalidades\n",
            "0    200801159627220  ...                 0\n",
            "1    201207125348634  ...                 3\n",
            "2    200802265376981  ...                 5\n",
            "3    201311205508363  ...                 1\n",
            "4    200905142478810  ...                 0\n",
            "\n",
            "[5 rows x 17 columns]\n",
            "(41, 17)\n"
          ],
          "name": "stdout"
        }
      ]
    },
    {
      "cell_type": "code",
      "metadata": {
        "id": "IW8ZjKCb3j9p",
        "colab_type": "code",
        "colab": {}
      },
      "source": [
        "df_ocorrencias_cond_met_aeronaves_sudeste.to_csv ('gdrive/My Drive/projetos/lp/ocorrencias_cond_met_aeronaves_sudeste.csv', index = None, header=True)"
      ],
      "execution_count": 0,
      "outputs": []
    },
    {
      "cell_type": "code",
      "metadata": {
        "id": "rJ3_g-PY6Bw_",
        "colab_type": "code",
        "outputId": "4306d7dd-0543-46de-c736-ddf43b475aff",
        "colab": {
          "base_uri": "https://localhost:8080/",
          "height": 170
        }
      },
      "source": [
        "df_met_sudeste = pd.read_csv('gdrive/My Drive/projetos/lp/sudeste.csv', sep=',', header=0,\\\n",
        "         usecols=['wsid','wsnm', 'elvt', 'lat', 'lon', 'city', 'prov', 'mdct', 'date',\n",
        "         'yr', 'mo', 'da', 'hr', 'stp', 'gbrd', 'temp', 'hmdy', 'wdsp', 'wdct', 'gust'])\n",
        "\n",
        "print(df_met_sudeste.head(5))\n",
        "print(df_met_sudeste.shape)\n",
        "#print(df_ocorrencias_fatores_sudeste.describe())\n"
      ],
      "execution_count": 11,
      "outputs": [
        {
          "output_type": "stream",
          "text": [
            "   wsid         wsnm   elvt       lat        lon  ...  temp  hmdy wdsp   wdct  gust\n",
            "0   178  SÃO GONÇALO  237.0 -6.835777 -38.311583  ...  29.3  35.0  3.2  101.0   6.5\n",
            "1   178  SÃO GONÇALO  237.0 -6.835777 -38.311583  ...  29.0  39.0  3.6   94.0   6.4\n",
            "2   178  SÃO GONÇALO  237.0 -6.835777 -38.311583  ...  27.4  44.0  2.5   93.0   6.9\n",
            "3   178  SÃO GONÇALO  237.0 -6.835777 -38.311583  ...  25.8  58.0  1.7   96.0   5.8\n",
            "4   178  SÃO GONÇALO  237.0 -6.835777 -38.311583  ...  25.4  57.0  3.1  110.0   7.5\n",
            "\n",
            "[5 rows x 20 columns]\n",
            "(9779168, 20)\n"
          ],
          "name": "stdout"
        }
      ]
    },
    {
      "cell_type": "code",
      "metadata": {
        "id": "DV1AKZ_RpKlk",
        "colab_type": "code",
        "outputId": "97663bdf-cc34-4767-db36-216af0a42d63",
        "colab": {
          "base_uri": "https://localhost:8080/",
          "height": 170
        }
      },
      "source": [
        "\n",
        "#new = pd.concat([df_ocorrencias_cond_met_aeronaves_sudeste,df_met_sudeste], axis=1, ignore_index=True)\n",
        "\n",
        "#print(new.head(5))\n",
        "#print(new.shape)\n",
        "\n",
        "#df_ocorrencias_cond_met_aeronaves_sudeste.join(df_met_sudeste)\n",
        "\n",
        "df_ocorrencias_cond_met_aeronaves_sudeste.rename(columns={'ocorrencia_dia': 'date'}, inplace=True)\n",
        "df_ocorrencias_cond_met_aeronaves_sudeste.rename(columns={'ocorrencia_uf': 'prov'}, inplace=True)\n",
        "\n",
        "df_ocorrencias_cond_met_aeronaves_sudeste['tmp'] = 1\n",
        "df_met_sudeste['tmp'] = 1\n",
        "\n",
        "tabelao = pd.merge(df_ocorrencias_cond_met_aeronaves_sudeste, df_met_sudeste, on=['tmp', 'date', 'prov'])\n",
        "tabelao = tabelao.drop('tmp', axis=1)\n",
        "\n",
        "\n",
        "print(tabelao.head(5))\n",
        "print(tabelao.shape)\n",
        "\n",
        "tabelao.to_csv ('gdrive/My Drive/projetos/lp/tabelao.csv', index = None, header=True)"
      ],
      "execution_count": 12,
      "outputs": [
        {
          "output_type": "stream",
          "text": [
            "   codigo_ocorrencia ocorrencia_classificacao ocorrencia_tipo  ...  wdsp  wdct gust\n",
            "0    200801159627220                 ACIDENTE          OUTROS  ...   0.0   0.0  0.0\n",
            "1    200801159627220                 ACIDENTE          OUTROS  ...   0.0   0.0  0.0\n",
            "2    200801159627220                 ACIDENTE          OUTROS  ...   0.0   0.0  0.0\n",
            "3    200801159627220                 ACIDENTE          OUTROS  ...   0.0   0.0  0.0\n",
            "4    200801159627220                 ACIDENTE          OUTROS  ...   0.0   0.0  0.0\n",
            "\n",
            "[5 rows x 35 columns]\n",
            "(29856, 35)\n"
          ],
          "name": "stdout"
        }
      ]
    },
    {
      "cell_type": "code",
      "metadata": {
        "id": "2-LI0wPY56d1",
        "colab_type": "code",
        "outputId": "20b8bc4c-adbe-4e0a-d63a-9d9bfcd4a220",
        "colab": {
          "base_uri": "https://localhost:8080/",
          "height": 799
        }
      },
      "source": [
        "def haversine(row):\n",
        "    # Raio da Terra em Km\n",
        "    r = 6371\n",
        "    # Converte coordenadas de graus para radianos\n",
        "\n",
        "    lat1, lon1, lat2, lon2 = map(radians, [row['ocorrencia_latitude'], row['ocorrencia_longitude'],\\\n",
        "            row['lat'], row['lon']])\n",
        "\n",
        "    # Formula de Haversine\n",
        "    dlon = lon2 - lon1\n",
        "    dlat = lat2 - lat1\n",
        "    hav = sin(dlat/2)**2 + cos(lat1) * cos(lat2) * sin(dlon/2)**2\n",
        "    d = 2 * r * asin( sqrt(hav) )\n",
        "    idwsid = 0\n",
        "    if (d <= 110):\n",
        "    #idwsid = df['wsid']\n",
        "        idwsid = 1\n",
        "    return idwsid\n",
        "\n",
        "def haversine_valor(row):\n",
        "    # Raio da Terra em Km\n",
        "    r = 6371\n",
        "    # Converte coordenadas de graus para radianos\n",
        "\n",
        "    lat1, lon1, lat2, lon2 = map(radians, [row['ocorrencia_latitude'], row['ocorrencia_longitude'],\\\n",
        "            row['lat'], row['lon']])\n",
        "\n",
        "    # Formula de Haversine\n",
        "    dlon = lon2 - lon1\n",
        "    dlat = lat2 - lat1\n",
        "    hav = sin(dlat/2)**2 + cos(lat1) * cos(lat2) * sin(dlon/2)**2\n",
        "    d = 2 * r * asin( sqrt(hav) )\n",
        "    return d\n",
        "\n",
        "def cruzar_horas(row):\n",
        "    condicao = 0\n",
        "    if (row['ocorrencia_horario_hr'] == row['mdct_hr']):\n",
        "        condicao = 1\n",
        "    return condicao\n",
        "    \n",
        "\n",
        "tabelao['ocorrencia_horario'] = pd.to_datetime(tabelao['ocorrencia_horario'])\n",
        "tabelao['ocorrencia_horario_hr'] = tabelao['ocorrencia_horario'].map(lambda x: x.strftime('%H'))    \n",
        "\n",
        "\n",
        "tabelao['mdct'] = pd.to_datetime(tabelao['mdct'])\n",
        "tabelao['mdct_hr'] = tabelao['mdct'].map(lambda x: x.strftime('%H'))    \n",
        "      \n",
        "tabelao['ocorrencia_estacao'] = tabelao.apply(haversine, axis=1)\n",
        "\n",
        "tabelao['ocorrencia_estacao_hora'] = tabelao.apply(cruzar_horas, axis=1)\n",
        "\n",
        "#tabelao[tabelao['ocorrencia_estacao'] == True]\n",
        "\n",
        "tabelao_110km = tabelao.loc[((tabelao['ocorrencia_estacao']) > 0) & ((tabelao['ocorrencia_estacao_hora']) > 0)]\n",
        "\n",
        "tabelao_110km['ocorrencia_estacao_distancia'] = tabelao_110km.apply(haversine_valor, axis=1)\n",
        "\n",
        "#tabelao_110km = tabelao.loc[]\n",
        "\n",
        "#tabelao_110km_unidade = tabelao_110km.groupby('codigo_ocorrencia').min()['ocorrencia_estacao_distancia']\n",
        "\n",
        "#tabelao_110km[tabelao_110km['ocorrencia_estacao_distancia'].isin(tabelao_110km.groupby('codigo_ocorrencia').min()['ocorrencia_estacao_distancia'].values)]\n",
        "\n",
        "#tabelao_110km.loc[tabelao_110km.groupby('codigo_ocorrencia')['ocorrencia_estacao_distancia'].idmin\n",
        "\n",
        "tabelao_110km_uni = tabelao_110km.groupby(['codigo_ocorrencia'])['ocorrencia_estacao_distancia'].min()\n",
        "\n",
        "tabelao_40 = pd.merge(tabelao_110km, tabelao_110km_uni, on=['ocorrencia_estacao_distancia']).drop_duplicates()\n",
        "\n",
        "#print(tabelao_110km_uni.shape)\n",
        "\n",
        "print(tabelao_40.shape)\n",
        "\n",
        "\n",
        "#print(tabelao_110km['codigo_ocorrencia'].value_counts())\n",
        "\n",
        "print(tabelao_40['codigo_ocorrencia'].value_counts())\n",
        "\n",
        "\n",
        "#print(tabelao_110km.dtypes)\n",
        "\n",
        "tabelao_40.to_csv ('gdrive/My Drive/projetos/lp/tabelao_40.csv', index = None, header=True)"
      ],
      "execution_count": 13,
      "outputs": [
        {
          "output_type": "stream",
          "text": [
            "(39, 40)\n",
            "201012091012069    1\n",
            "201206022037551    1\n",
            "201101308909677    1\n",
            "201101012554670    1\n",
            "201002264597949    1\n",
            "201007243412590    1\n",
            "200801235808261    1\n",
            "201204268107243    1\n",
            "200906134111359    1\n",
            "200804303594333    1\n",
            "201109104280788    1\n",
            "201207286338230    1\n",
            "201109096211708    1\n",
            "200905142478810    1\n",
            "200802265376981    1\n",
            "200801159627220    1\n",
            "200901179589815    1\n",
            "201202075853502    1\n",
            "200802236257231    1\n",
            "201108309734742    1\n",
            "200909218862179    1\n",
            "201110011567899    1\n",
            "201111153377811    1\n",
            "200908213725671    1\n",
            "201110163307115    1\n",
            "200804195711783    1\n",
            "200812308352487    1\n",
            "200909036780777    1\n",
            "201002174449839    1\n",
            "200801112101167    1\n",
            "201602261542222    1\n",
            "201502197258957    1\n",
            "201211115599083    1\n",
            "201408136355580    1\n",
            "200905252360628    1\n",
            "201407052477200    1\n",
            "201302039792556    1\n",
            "201207125348634    1\n",
            "201311205508363    1\n",
            "Name: codigo_ocorrencia, dtype: int64\n"
          ],
          "name": "stdout"
        },
        {
          "output_type": "stream",
          "text": [
            "/usr/local/lib/python3.6/dist-packages/ipykernel_launcher.py:55: SettingWithCopyWarning: \n",
            "A value is trying to be set on a copy of a slice from a DataFrame.\n",
            "Try using .loc[row_indexer,col_indexer] = value instead\n",
            "\n",
            "See the caveats in the documentation: http://pandas.pydata.org/pandas-docs/stable/indexing.html#indexing-view-versus-copy\n"
          ],
          "name": "stderr"
        }
      ]
    },
    {
      "cell_type": "code",
      "metadata": {
        "id": "XG-iXZcjbjt9",
        "colab_type": "code",
        "outputId": "6e7032d8-dc34-42da-cd0e-d07bc7e16a01",
        "colab": {
          "base_uri": "https://localhost:8080/",
          "height": 1072
        }
      },
      "source": [
        "from folium import plugins\n",
        "coordenadas = []\n",
        "\n",
        "lat = tabelao_40['lat'][:500].values\n",
        "long = tabelao_40['lon'][:500].values\n",
        "\n",
        "lat_oco = tabelao_40['ocorrencia_latitude'][:500].values\n",
        "long_oco = tabelao_40['ocorrencia_longitude'][:500].values\n",
        "\n",
        "mapa = folium.Map(location=[-23.5489,-46.6388],tiles='OpenStreetMap',zoom_start=5)\n",
        "\n",
        "for la,lo in zip(lat,long):\n",
        "    folium.Marker([la, lo]).add_to(mapa)\n",
        "for la,lo in zip(lat_oco, long_oco):\n",
        "    coordenadas.append([la,lo])\n",
        "\n",
        "\n",
        "\n",
        "mapa.add_child(plugins.HeatMap(coordenadas))\n",
        "mapa"
      ],
      "execution_count": 14,
      "outputs": [
        {
          "output_type": "execute_result",
          "data": {
            "text/html": [
              "<div style=\"width:100%;\"><div style=\"position:relative;width:100%;height:0;padding-bottom:60%;\"><iframe src=\"data:text/html;charset=utf-8;base64,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\" style=\"position:absolute;width:100%;height:100%;left:0;top:0;border:none !important;\" allowfullscreen webkitallowfullscreen mozallowfullscreen></iframe></div></div>"
            ],
            "text/plain": [
              "<folium.folium.Map at 0x7f48c3527780>"
            ]
          },
          "metadata": {
            "tags": []
          },
          "execution_count": 14
        }
      ]
    },
    {
      "cell_type": "code",
      "metadata": {
        "id": "xgDo_eB3gaIo",
        "colab_type": "code",
        "colab": {
          "base_uri": "https://localhost:8080/",
          "height": 302
        },
        "outputId": "c1250252-333c-4037-8424-0c66d6ec0961"
      },
      "source": [
        "# plot boxplot with seaborn\n",
        "bplot=sns.boxplot(y='hmdy', x='yr', \n",
        "                 data=tabelao_40, \n",
        "                 width=0.5,\n",
        "                 palette=\"colorblind\")\n",
        " \n",
        "# add swarmplot\n",
        "bplot=sns.swarmplot(y='hmdy', x='yr',\n",
        "              data=tabelao_40, \n",
        "              color='black',\n",
        "              alpha=0.75)\n",
        "\n",
        "bplot.axes.set_title(\"Umidade calculada nas estações x Quantidade de ocorrências por ano\",\n",
        "                    fontsize=16)\n",
        " \n",
        "bplot.set_xlabel(\"Anos\", \n",
        "                fontsize=14)\n",
        " \n",
        "bplot.set_ylabel(\"Umidade\",\n",
        "                fontsize=14)\n",
        " \n",
        "bplot.tick_params(labelsize=10)"
      ],
      "execution_count": 16,
      "outputs": [
        {
          "output_type": "display_data",
          "data": {
            "image/png": "[encoded data removed]",
            "text/plain": [
              "<Figure size 432x288 with 1 Axes>"
            ]
          },
          "metadata": {
            "tags": []
          }
        }
      ]
    },
    {
      "cell_type": "code",
      "metadata": {
        "id": "UgQYcSy2i45c",
        "colab_type": "code",
        "colab": {
          "base_uri": "https://localhost:8080/",
          "height": 302
        },
        "outputId": "ad845fdd-239d-4345-b9a9-8a9a309710e0"
      },
      "source": [
        "# plot boxplot with seaborn\n",
        "bplot=sns.boxplot(y='wdsp', x='yr', \n",
        "                 data=tabelao_40, \n",
        "                 width=0.5,\n",
        "                 palette=\"colorblind\")\n",
        " \n",
        "# add swarmplot\n",
        "bplot=sns.swarmplot(y='wdsp', x='yr',\n",
        "              data=tabelao_40, \n",
        "              color='black',\n",
        "              alpha=0.75)\n",
        "\n",
        "bplot.axes.set_title(\"Velocidade do vento calculada nas estações x Quantidade de ocorrências por ano\",\n",
        "                    fontsize=16)\n",
        " \n",
        "bplot.set_xlabel(\"Anos\", \n",
        "                fontsize=14)\n",
        " \n",
        "bplot.set_ylabel(\"Velocidade\",\n",
        "                fontsize=14)\n",
        " \n",
        "bplot.tick_params(labelsize=10)\n"
      ],
      "execution_count": 18,
      "outputs": [
        {
          "output_type": "display_data",
          "data": {
            "image/png": "[encoded data removed]",
            "text/plain": [
              "<Figure size 432x288 with 1 Axes>"
            ]
          },
          "metadata": {
            "tags": []
          }
        }
      ]
    },
    {
      "cell_type": "code",
      "metadata": {
        "id": "lRcdlabzjlFp",
        "colab_type": "code",
        "colab": {
          "base_uri": "https://localhost:8080/",
          "height": 302
        },
        "outputId": "47cb1463-1c6a-4c6d-c5be-ddb49143df32"
      },
      "source": [
        "# plot boxplot with seaborn\n",
        "bplot=sns.boxplot(y='gust', x='yr', \n",
        "                 data=tabelao_40, \n",
        "                 width=0.5,\n",
        "                 palette=\"colorblind\")\n",
        " \n",
        "# add swarmplot\n",
        "bplot=sns.swarmplot(y='gust', x='yr',\n",
        "              data=tabelao_40, \n",
        "              color='black',\n",
        "              alpha=0.75)\n",
        "\n",
        "bplot.axes.set_title(\"Rajada do vento calculada nas estações x Quantidade de ocorrências por ano\",\n",
        "                    fontsize=16)\n",
        " \n",
        "bplot.set_xlabel(\"Anos\", \n",
        "                fontsize=14)\n",
        " \n",
        "bplot.set_ylabel(\"Rajada\",\n",
        "                fontsize=14)\n",
        " \n",
        "bplot.tick_params(labelsize=10)"
      ],
      "execution_count": 20,
      "outputs": [
        {
          "output_type": "display_data",
          "data": {
            "image/png": "[encoded data removed]",
            "text/plain": [
              "<Figure size 432x288 with 1 Axes>"
            ]
          },
          "metadata": {
            "tags": []
          }
        }
      ]
    },
    {
      "cell_type": "code",
      "metadata": {
        "id": "B1nJuVvFj2KW",
        "colab_type": "code",
        "colab": {
          "base_uri": "https://localhost:8080/",
          "height": 302
        },
        "outputId": "dfba3732-b6b8-4bda-dbee-402593e61183"
      },
      "source": [
        "# plot boxplot with seaborn\n",
        "bplot=sns.boxplot(y='temp', x='yr', \n",
        "                 data=tabelao_40, \n",
        "                 width=0.5,\n",
        "                 palette=\"colorblind\")\n",
        " \n",
        "# add swarmplot\n",
        "bplot=sns.swarmplot(y='temp', x='yr',\n",
        "              data=tabelao_40, \n",
        "              color='black',\n",
        "              alpha=0.75)\n",
        "\n",
        "bplot.axes.set_title(\"Temperatura calculada nas estações x Quantidade de ocorrências por ano\",\n",
        "                    fontsize=16)\n",
        " \n",
        "bplot.set_xlabel(\"Anos\", \n",
        "                fontsize=14)\n",
        " \n",
        "bplot.set_ylabel(\"Temperatura\",\n",
        "                fontsize=14)\n",
        " \n",
        "bplot.tick_params(labelsize=10)"
      ],
      "execution_count": 21,
      "outputs": [
        {
          "output_type": "display_data",
          "data": {
            "image/png": "[encoded data removed]",
            "text/plain": [
              "<Figure size 432x288 with 1 Axes>"
            ]
          },
          "metadata": {
            "tags": []
          }
        }
      ]
    },
    {
      "cell_type": "code",
      "metadata": {
        "id": "6j6Giv_OkQ9B",
        "colab_type": "code",
        "colab": {
          "base_uri": "https://localhost:8080/",
          "height": 999
        },
        "outputId": "3409f884-8967-46d2-b76c-520cdd73468c"
      },
      "source": [
        "#tabelao_40.ocorrencia_horario_hr.astype('int64')\n",
        "\n",
        "tabelao_40['ocorrencia_horario_hr']=tabelao_40['ocorrencia_horario_hr'].astype(np.float)\n",
        "\n",
        "print(tabelao_40.dtypes)\n",
        "\n",
        "# plot boxplot with seaborn\n",
        "bplot=sns.boxplot(y='ocorrencia_horario_hr', x='yr', \n",
        "                 data=tabelao_40, \n",
        "                 width=0.5,\n",
        "                 palette=\"colorblind\")\n",
        " \n",
        "# add swarmplot\n",
        "bplot=sns.swarmplot(y='ocorrencia_horario_hr', x='yr',\n",
        "              data=tabelao_40, \n",
        "              color='black',\n",
        "              alpha=0.75)\n",
        "\n",
        "bplot.axes.set_title(\"Horário das ocorrências x Quantidade de ocorrências por ano\",\n",
        "                    fontsize=16)\n",
        " \n",
        "bplot.set_xlabel(\"Anos\", \n",
        "                fontsize=14)\n",
        " \n",
        "bplot.set_ylabel(\"Hora\",\n",
        "                fontsize=14)\n",
        " \n",
        "bplot.tick_params(labelsize=10)"
      ],
      "execution_count": 36,
      "outputs": [
        {
          "output_type": "stream",
          "text": [
            "codigo_ocorrencia                        int64\n",
            "ocorrencia_classificacao                object\n",
            "ocorrencia_tipo                         object\n",
            "ocorrencia_latitude                    float64\n",
            "ocorrencia_longitude                   float64\n",
            "prov                                    object\n",
            "date                                    object\n",
            "ocorrencia_horario              datetime64[ns]\n",
            "fator_nome                              object\n",
            "aeronave_tipo_veiculo                   object\n",
            "aeronave_fabricante                     object\n",
            "aeronave_modelo                         object\n",
            "aeronave_motor_tipo                     object\n",
            "aeronave_motor_quantidade               object\n",
            "aeronave_ano_fabricacao                float64\n",
            "aeronave_tipo_operacao                  object\n",
            "total_fatalidades                        int64\n",
            "wsid                                     int64\n",
            "wsnm                                    object\n",
            "elvt                                   float64\n",
            "lat                                    float64\n",
            "lon                                    float64\n",
            "city                                    object\n",
            "mdct                            datetime64[ns]\n",
            "yr                                       int64\n",
            "mo                                       int64\n",
            "da                                       int64\n",
            "hr                                       int64\n",
            "stp                                    float64\n",
            "gbrd                                   float64\n",
            "temp                                   float64\n",
            "hmdy                                   float64\n",
            "wdsp                                   float64\n",
            "wdct                                   float64\n",
            "gust                                   float64\n",
            "ocorrencia_horario_hr                  float64\n",
            "mdct_hr                                 object\n",
            "ocorrencia_estacao                       int64\n",
            "ocorrencia_estacao_hora                  int64\n",
            "ocorrencia_estacao_distancia           float64\n",
            "dtype: object\n"
          ],
          "name": "stdout"
        },
        {
          "output_type": "display_data",
          "data": {
            "image/png": "[encoded data removed]",
            "text/plain": [
              "<Figure size 432x288 with 1 Axes>"
            ]
          },
          "metadata": {
            "tags": []
          }
        }
      ]
    },
    {
      "cell_type": "code",
      "metadata": {
        "id": "mocMI6ZcocI5",
        "colab_type": "code",
        "colab": {
          "base_uri": "https://localhost:8080/",
          "height": 302
        },
        "outputId": "2578e5aa-2c8c-459e-e5b2-1a5ecca46938"
      },
      "source": [
        "# plot boxplot with seaborn\n",
        "bplot=sns.boxplot(y='codigo_ocorrencia', x='aeronave_tipo_veiculo', \n",
        "                 data=tabelao_40, \n",
        "                 width=0.5,\n",
        "                 palette=\"colorblind\")\n",
        " \n",
        "# add swarmplot\n",
        "bplot=sns.swarmplot(y='codigo_ocorrencia', x='aeronave_tipo_veiculo',\n",
        "              data=tabelao_40, \n",
        "              color='black',\n",
        "              alpha=0.75)\n",
        "\n",
        "bplot.axes.set_title(\"Quantidade de ocorrências por ano x Tipo de Aeronave\",\n",
        "                    fontsize=16)\n",
        " \n",
        "bplot.set_xlabel(\"Tipo\", \n",
        "                fontsize=14)\n",
        " \n",
        "bplot.set_ylabel(\"Ano\",\n",
        "                fontsize=14)\n",
        " \n",
        "bplot.tick_params(labelsize=10)"
      ],
      "execution_count": 38,
      "outputs": [
        {
          "output_type": "display_data",
          "data": {
            "image/png": "[encoded data removed]",
            "text/plain": [
              "<Figure size 432x288 with 1 Axes>"
            ]
          },
          "metadata": {
            "tags": []
          }
        }
      ]
    },
    {
      "cell_type": "code",
      "metadata": {
        "id": "V6MY7lBGcPgc",
        "colab_type": "code",
        "colab": {}
      },
      "source": [
        "from folium import plugins\n",
        "coordenadas = []\n",
        "lat = tabelao_40['ocorrencia_latitude'][:500].values\n",
        "long = tabelao_40['ocorrencia_longitude'][:500].values\n",
        "\n",
        "mapa = folium.Map(location=[-15.788497,-47.879873],tiles='Stamen Toner',zoom_start=4)\n",
        "\n",
        "for la,lo in zip(lat,long):\n",
        "    coordenadas.append([la,lo])\n",
        "\n",
        "mapa.add_child(plugins.HeatMap(coordenadas))\n",
        "mapa"
      ],
      "execution_count": 0,
      "outputs": []
    },
    {
      "cell_type": "code",
      "metadata": {
        "id": "W7OwqbXbzPv8",
        "colab_type": "code",
        "colab": {}
      },
      "source": [
        "l2 = df_met_sudeste.loc[:, ['wsid']]\n",
        "print(l2)\n",
        "\n",
        "new = l2.groupby('wsid')\n",
        "\n",
        "print(new.head(5))\n",
        "#print(new.shape)"
      ],
      "execution_count": 0,
      "outputs": []
    },
    {
      "cell_type": "code",
      "metadata": {
        "id": "sUPqy0BzhXlj",
        "colab_type": "code",
        "colab": {}
      },
      "source": [
        "def haversine(rowlat1, rowlon1, rowlat2, rowlon2):\n",
        "    # Raio da Terra em Km\n",
        "    r = 6371\n",
        "    # Converte coordenadas de graus para radianos\n",
        "\n",
        "    lat1, lon1, lat2, lon2 = map(radians, [rowlat1, rowlon1,\\\n",
        "            rowlat1, rowlat2])\n",
        "\n",
        "    # Formula de Haversine\n",
        "    dlon = lon2 - lon1\n",
        "    dlat = lat2 - lat1\n",
        "    hav = sin(dlat/2)**2 + cos(lat1) * cos(lat2) * sin(dlon/2)**2\n",
        "    d = 2 * r * asin( sqrt(hav) )\n",
        "    idwsid = None\n",
        "    if (d <= 20):\n",
        "    #idwsid = df['wsid']\n",
        "        idwsid = True\n",
        "    else:\n",
        "        idwsid = False\n",
        "    return idwsid\n",
        "\n",
        "def encontrar_relacao(latitude, longitude, df):\n",
        "    new1 = df.apply(haversine(latitude, longitude, df['lat'], df['lon'], axis=1)\n",
        "         \n",
        "new2 = df_ocorrencias_cond_met_aeronaves_sudeste.apply(encontrar_relacao(df_ocorrencias_cond_met_aeronaves_sudeste['ocorrencia_latitude'],df_ocorrencias_cond_met_aeronaves_sudeste['ocorrencia_longitude'], df_met_sudeste), axis=1)\n",
        "new.head(5)"
      ],
      "execution_count": 0,
      "outputs": []
    },
    {
      "cell_type": "code",
      "metadata": {
        "id": "Rj4J0JXFpOWf",
        "colab_type": "code",
        "colab": {}
      },
      "source": [
        ""
      ],
      "execution_count": 0,
      "outputs": []
    },
    {
      "cell_type": "code",
      "metadata": {
        "id": "7I-Chklo0MCE",
        "colab_type": "code",
        "colab": {}
      },
      "source": [
        "#==============================================================================================\n",
        "\n",
        "#===============================================================================================\n",
        "\n",
        "def criar_dicionario_localizacao_ocorrencias(df1):\n",
        "        df1_localizacao_geral = {}\n",
        "        for index, rows in df1.iterrows():\n",
        "                df1_localizacao = []\n",
        "                codigo_ocorrencia = rows.codigo_ocorrencia\n",
        "                latitude = rows.ocorrencia_latitude\n",
        "                longitude = rows.ocorrencia_longitude\n",
        "                hora = rows.ocorrencia_horario\n",
        "                data = rows.ocorrencia_dia\n",
        "                df1_localizacao.append(index)\n",
        "                #df1_localizacao.append(codigo_ocorrencia)\n",
        "                df1_localizacao.append(latitude)\n",
        "                df1_localizacao.append(longitude)\n",
        "                df1_localizacao.append(hora)\n",
        "                df1_localizacao.append(data)\n",
        "                df1_localizacao_geral[rows.codigo_ocorrencia] = df1_localizacao\n",
        "                #print(df1_localizacao)\n",
        "\n",
        "        #print(df1_localizacao_geral)\n",
        "\n",
        "        return df1_localizacao_geral\n",
        "\n",
        "#dic_ocorrencias = criar_dicionario_localizacao_ocorrencias(df_ocorrencias_cond_met_aeronaves_sudeste)\n",
        "\n",
        "#print(dic_ocorrencias)\n",
        "\n",
        "def criar_dicionario_localizacao_estacoes(df1):\n",
        "        df1_localizacao_geral = {}\n",
        "        for i in df1.iterrows():\n",
        "                df1_localizacao = []\n",
        "                latitude = i.lat\n",
        "                longitude = i.lon\n",
        "                data_hora = i.mdct\n",
        "                df1_localizacao.append(latitude)\n",
        "                df1_localizacao.append(longitude)\n",
        "                df1_localizacao.append(data_hora)\n",
        "                df1_localizacao_geral[i.wsid] = df1_localizacao\n",
        "                #print(df1_localizacao)\n",
        "\n",
        "        #print(df1_localizacao_geral)\n",
        "\n",
        "        return df1_localizacao_geral\n",
        "\n",
        "#dic_estacoes = criar_dicionario_localizacao_estacoes(df_met_sudeste)\n",
        "\n",
        "#================================================================================================\n",
        "\n",
        "# def extrair_lat_or_lon_2(rowlat2, rowlon2):\n",
        "\n",
        "def cruzar_dados(serie1, serie2):\n",
        "        lista = []\n",
        "        lista.append(serie1)\n",
        "        lista.append(serie2)\n",
        "        return lista\n",
        "\n",
        "def extrair_lat_or_lon(rowlat1, rowlon1):\n",
        "        lista = []\n",
        "        lista.append(rowlat1, rowlon1)\n",
        "        #lista2 = []\n",
        "        #lista2 = map(extrair_lat_or_lon_2,)\n",
        "        return lista\n",
        "\n",
        "# Formula de Haversine\n",
        "def haversine(serie1, serie2):\n",
        "        # print(x)\n",
        "        # Raio da Terra em Km\n",
        "        r = 6371\n",
        "        # Converte coordenadas de graus para radianos\n",
        "        #y = col1.tolist()\n",
        "        #col1.map(extrair_lat_or_lon)\n",
        "        \n",
        "        #lista = col1.index.map(col2.index.map(df['lat'].index.map(df['lon'].index.map(extrair_lat_or_lon))))\n",
        "        #print(lista)\n",
        "\n",
        "        lista = map(cruzar_dados, (df_ocorrencias_cond_met_aeronaves_sudeste['ocorrencia_latitude'],\\\n",
        "                df_ocorrencias_cond_met_aeronaves_sudeste['ocorrencia_longitude']))\n",
        "        \n",
        "        #lista = map(extrair_lat_or_lon, rowlat1, rowlon1)\n",
        "\n",
        "        print(lista)\n",
        "\n",
        "        print(list(lista))\n",
        "\n",
        "        # lat1, lon1, lat2, lon2 = map(radians, [rowlat1, rowlon1,\\\n",
        "        #          rowlat1, rowlat2])\n",
        "\n",
        "        # Formula de Haversine\n",
        "        # dlon = lon2 - lon1\n",
        "        # dlat = lat2 - lat1\n",
        "        # hav = sin(dlat/2)**2 + cos(lat1) * cos(lat2) * sin(dlon/2)**2\n",
        "        # d = 2 * r * asin( sqrt(hav) )\n",
        "        # idwsid = 0\n",
        "        # if (d <= 12):\n",
        "        #         idwsid = df['wsid']\n",
        "        # return idwsid\n",
        "\n",
        "# def criar_lista_lat_lon(a):\n",
        "#         # lista = []\n",
        "#         # lista.append(a)\n",
        "#         #lista.append(b)\n",
        "#         return a\n",
        "\n",
        "#print(df_ocorrencias_cond_met_aeronaves_sudeste.shape)\n",
        "#print(df_met_sudeste.shape)\n",
        "\n",
        "#df_met_sudeste.describe()\n",
        "\n",
        "#l1 = df_ocorrencias_cond_met_aeronaves_sudeste.loc[:, ['ocorrencia_latitude','ocorrencia_longitude']]\n",
        "\n",
        "#print(l1)\n",
        "\n",
        "l2 = df_met_sudeste.loc[:, ['wsid','lat','lon']]\n",
        "print(l2)\n",
        "#a = 0\n",
        "#while True:\n",
        "#       \n",
        "#        print( l2.loc[a,['wsid', 'lat']])\n",
        "#        a += 1\n",
        "#print(l2.loc[:'lat'])\n",
        "\n",
        "def lat_lon\n",
        "\n",
        "# df_ocorrencias_cond_met_aeronaves_sudeste['wsid'] = df_ocorrencias_cond_met_aeronaves_sudeste.apply\\\n",
        "#         (haversine(df_met_sudeste['lat'], df_met_sudeste['lon']), axis=1)\n",
        "\n",
        "# df_ocorrencias_cond_met_aeronaves_sudeste['wsid'] = df_ocorrencias_cond_met_aeronaves_sudeste.apply\\\n",
        "#         (df_met_sudeste.apply(lambda row: haversine(row['lat'], row['lon'], row['ocorrencia_latitude'],\\\n",
        "#              row['ocorrencia_longitude']), axis=1))\n",
        "\n",
        " \n",
        "#print(haversine(dic_ocorrencias, dic_estacoes))\n",
        "\n",
        "#dic_haversine = haversine(dic_ocorrencias, dic_estacoes)\n",
        "\n",
        "#print((haversine(dic_ocorrencias, dic_estacoes)).keys())\n",
        "\n",
        "#print(len((haversine(dic_ocorrencias, dic_estacoes)).keys()))\n",
        "\n",
        "#===============================================================================================\n",
        "\n",
        "# def preencher_estacao(dic_haversine, df):\n",
        "#         print(df.head(5))\n",
        "#         idx = 0\n",
        "#         for k,v in dic_haversine.items():\n",
        "#                 if (df['codigo_ocorrencia'] == k).item():\n",
        "#                         df.insert(idx,'estacao', v)\n",
        "#                         idx += 1\n",
        "#         return df\n",
        "\n",
        "#df_ocorrencias_com_id_estacao = preencher_estacao(dic_haversine, df_ocorrencias_cond_met_aeronaves_sudeste)\n",
        "\n",
        "#print(df_ocorrencias_com_id_estacao.head())\n",
        "\n",
        "#================================================================================================\n",
        "\n",
        "# def filtro_sudeste(df, dic):\n",
        "#         for k,v in dic.items():\n",
        "#                 df_filtrado = df.loc[df['wsid'].isin([v])]\n",
        "#                 df_filtrado.to_csv ('/home/joao/Documentos/lp/'+str(v)+'.csv', index = None, header=True)\n",
        "\n",
        "#filtro_sudeste(df_met_sudeste,dic_haversine)"
      ],
      "execution_count": 0,
      "outputs": []
    },
    {
      "cell_type": "code",
      "metadata": {
        "id": "poKskmG40VZR",
        "colab_type": "code",
        "colab": {}
      },
      "source": [
        "import pandas as pd\n",
        "import numpy as np\n",
        "import matplotlib.pyplot as plt\n",
        "from math import radians, cos, sin, asin, sqrt\n",
        "\n",
        "\n",
        "df_ocorrencias = pd.read_csv('/home/joao/Documentos/lp/oco.csv', sep='~', header=0,\\\n",
        "         usecols=['codigo_ocorrencia','ocorrencia_classificacao', 'ocorrencia_tipo', 'ocorrencia_uf',\\\n",
        "                 'ocorrencia_latitude', 'ocorrencia_longitude', 'ocorrencia_horario', 'ocorrencia_dia'])\n",
        "\n",
        "#print(df_ocorrencias.head(5))\n",
        "#print(df_ocorrencias.shape)\n",
        "\n",
        "df_ocorrencias_sudeste = df_ocorrencias.loc[df_ocorrencias['ocorrencia_uf'].isin(['ES','MG','RJ','SP'])]\n",
        "\n",
        "df_fatores_contribuintes = pd.read_csv('/home/joao/Documentos/lp/ftc.csv', sep='~', header=0,\\\n",
        "        usecols=['codigo_ocorrencia', 'fator_nome'])\n",
        "\n",
        "#print(df_fatores_contribuintes.head(5))\n",
        "#print(df_fatores_contribuintes.shape)\n",
        "\n",
        "df_aeronaves_envolvidas = pd.read_csv('/home/joao/Documentos/lp/anv.csv', sep='~', header=0,\\\n",
        "        usecols=['codigo_ocorrencia', 'aeronave_tipo_veiculo', 'aeronave_fabricante',\\\n",
        "                'aeronave_modelo', 'aeronave_motor_tipo', 'aeronave_motor_quantidade',\\\n",
        "                        'aeronave_ano_fabricacao', 'aeronave_tipo_operacao', 'total_fatalidades'])\n",
        "\n",
        "#print(df_aeronaves_envolvidas.head(5))\n",
        "#print(df_aeronaves_envolvidas.shape)\n",
        "\n",
        "df_ocorrencias_fatores_sudeste = pd.merge(df_ocorrencias_sudeste, df_fatores_contribuintes, on='codigo_ocorrencia', how='inner')\n",
        "\n",
        "df_ocorrencias_cond_met_sudeste = df_ocorrencias_fatores_sudeste.loc[df_ocorrencias_fatores_sudeste['fator_nome'].isin(['CONDIÇÕES METEOROLÓGICAS ADVERSAS'])]\n",
        "\n",
        "#print(df_ocorrencias_cond_met_sudeste.head(5))\n",
        "#print(df_ocorrencias_fatores_sudeste.describe())\n",
        "#print(df_ocorrencias_cond_met_sudeste.shape)\n",
        "\n",
        "df_ocorrencias_cond_met_aeronaves_sudeste = pd.merge(df_ocorrencias_cond_met_sudeste, df_aeronaves_envolvidas, on='codigo_ocorrencia', how='inner')\n",
        "\n",
        "#print(df_ocorrencias_cond_met_aeronaves_sudeste.head(5))\n",
        "#print(df_ocorrencias_fatores_sudeste.describe())\n",
        "#print(df_ocorrencias_cond_met_aeronaves_sudeste.shape)\n",
        "\n",
        "\n",
        "df_ocorrencias_cond_met_aeronaves_sudeste.to_csv ('/home/joao/Documentos/lp/ocorrencias_cond_met_aeronaves_sudeste.csv', index = None, header=True)\n",
        "\n",
        "\n",
        "#==============================================================================================\n",
        "\n",
        "df_met_sudeste = pd.read_csv('/home/joao/Documentos/lp/sudeste.csv', sep=',', header=0,\\\n",
        "         usecols=['wsid','wsnm', 'elvt', 'lat', 'lon', 'city', 'prov', 'mdct', 'date',\n",
        "         'yr', 'mo', 'da', 'hr', 'stp', 'gbrd', 'temp', 'hmdy', 'wdsp', 'wdct', 'gust'])\n",
        "\n",
        "#print(df_met_sudeste.head(5))\n",
        "#print(df_ocorrencias_fatores_sudeste.describe())\n",
        "#print(df_met_sudeste.shape)\n",
        "\n",
        "#===============================================================================================\n",
        "\n",
        "def criar_dicionario_localizacao_ocorrencias(df1):\n",
        "        df1_localizacao_geral = {}\n",
        "        for index, rows in df1.iterrows():\n",
        "                df1_localizacao = []\n",
        "                codigo_ocorrencia = rows.codigo_ocorrencia\n",
        "                latitude = rows.ocorrencia_latitude\n",
        "                longitude = rows.ocorrencia_longitude\n",
        "                hora = rows.ocorrencia_horario\n",
        "                data = rows.ocorrencia_dia\n",
        "                df1_localizacao.append(index)\n",
        "                #df1_localizacao.append(codigo_ocorrencia)\n",
        "                df1_localizacao.append(latitude)\n",
        "                df1_localizacao.append(longitude)\n",
        "                df1_localizacao.append(hora)\n",
        "                df1_localizacao.append(data)\n",
        "                df1_localizacao_geral[rows.codigo_ocorrencia] = df1_localizacao\n",
        "                #print(df1_localizacao)\n",
        "\n",
        "        #print(df1_localizacao_geral)\n",
        "\n",
        "        return df1_localizacao_geral\n",
        "\n",
        "#dic_ocorrencias = criar_dicionario_localizacao_ocorrencias(df_ocorrencias_cond_met_aeronaves_sudeste)\n",
        "\n",
        "\n",
        "def criar_dicionario_localizacao_estacoes(df1):\n",
        "        df1_localizacao_geral = {}\n",
        "        for i in df1.iterrows():\n",
        "                df1_localizacao = []\n",
        "                latitude = i.lat\n",
        "                longitude = i.lon\n",
        "                data_hora = i.mdct\n",
        "                df1_localizacao.append(latitude)\n",
        "                df1_localizacao.append(longitude)\n",
        "                df1_localizacao.append(data_hora)\n",
        "                df1_localizacao_geral[i.wsid] = df1_localizacao\n",
        "                #print(df1_localizacao)\n",
        "\n",
        "        #print(df1_localizacao_geral)\n",
        "\n",
        "        return df1_localizacao_geral\n",
        "\n",
        "#dic_estacoes = criar_dicionario_localizacao_estacoes(df_met_sudeste)\n",
        "\n",
        "#================================================================================================\n",
        "\n",
        "def extrair_lat_or_lon(x):\n",
        "        #print(x)\n",
        "        return x\n",
        "\n",
        "# Formula de Haversine\n",
        "def haversine(df, col1, col2):\n",
        "        # Raio da Terra em Km\n",
        "        r = 6371\n",
        "        # Converte coordenadas de graus para radianos\n",
        "        #y = col1.tolist()\n",
        "        #col1.map(extrair_lat_or_lon)\n",
        "        \n",
        "        lista = col1.index.map(col2.index.map(df['lat'].index.map(df['lon'].index.map(extrair_lat_or_lon))))\n",
        "        print(lista)\n",
        "        #lat1, lon1, lat2, lon2 = map(radians, [col1.index.map(extrair_lat_or_lon), col2.index.map(extrair_lat_or_lon),\\\n",
        "        #         df['lat'].index.map(extrair_lat_or_lon), df['lon'].index.map(extrair_lat_or_lon)])\n",
        "\n",
        "        # Formula de Haversine\n",
        "        dlon = lon2 - lon1\n",
        "        dlat = lat2 - lat1\n",
        "        hav = sin(dlat/2)**2 + cos(lat1) * cos(lat2) * sin(dlon/2)**2\n",
        "        d = 2 * r * asin( sqrt(hav) )\n",
        "        idwsid = 0\n",
        "        if (d <= 12):\n",
        "                idwsid = df['wsid']\n",
        "        return idwsid\n",
        "\n",
        "\n",
        "df_ocorrencias_cond_met_aeronaves_sudeste['wsid'] = df_ocorrencias_cond_met_aeronaves_sudeste.apply\\\n",
        "        (haversine(df_met_sudeste, df_ocorrencias_cond_met_aeronaves_sudeste['ocorrencia_latitude'], df_ocorrencias_cond_met_aeronaves_sudeste['ocorrencia_longitude']), axis=1)\n",
        "\n",
        "\n",
        "#print(haversine(dic_ocorrencias, dic_estacoes))\n",
        "\n",
        "#dic_haversine = haversine(dic_ocorrencias, dic_estacoes)\n",
        "\n",
        "#print((haversine(dic_ocorrencias, dic_estacoes)).keys())\n",
        "\n",
        "#print(len((haversine(dic_ocorrencias, dic_estacoes)).keys()))\n",
        "\n",
        "#===============================================================================================\n",
        "\n",
        "# def preencher_estacao(dic_haversine, df):\n",
        "#         print(df.head(5))\n",
        "#         idx = 0\n",
        "#         for k,v in dic_haversine.items():\n",
        "#                 if (df['codigo_ocorrencia'] == k).item():\n",
        "#                         df.insert(idx,'estacao', v)\n",
        "#                         idx += 1\n",
        "#         return df\n",
        "\n",
        "#df_ocorrencias_com_id_estacao = preencher_estacao(dic_haversine, df_ocorrencias_cond_met_aeronaves_sudeste)\n",
        "\n",
        "#print(df_ocorrencias_com_id_estacao.head())\n",
        "\n",
        "#================================================================================================\n",
        "\n",
        "# def filtro_sudeste(df, dic):\n",
        "#         for k,v in dic.items():\n",
        "#                 df_filtrado = df.loc[df['wsid'].isin([v])]\n",
        "#                 df_filtrado.to_csv ('/home/joao/Documentos/lp/'+str(v)+'.csv', index = None, header=True)\n",
        "\n",
        "#filtro_sudeste(df_met_sudeste,dic_haversine)"
      ],
      "execution_count": 0,
      "outputs": []
    },
    {
      "cell_type": "code",
      "metadata": {
        "id": "eNTjYOmY0aiA",
        "colab_type": "code",
        "colab": {}
      },
      "source": [
        "import pandas as pd\n",
        "import numpy as np\n",
        "import matplotlib.pyplot as plt\n",
        "from math import radians, cos, sin, asin, sqrt\n",
        "\n",
        "\n",
        "# df_sudeste = pd.read_csv('/home/joao/Documentos/lp/sudeste.csv', sep=',', header=0, usecols=[\"elvt\"])\n",
        "# print(df_sudeste.head(5))\n",
        "\n",
        "# def test_intertuples(df):\n",
        "#     for i in df.itertuples():\n",
        "#         elevation = i.elvt\n",
        "#         print(elevation)\n",
        "\n",
        "# test_intertuples(df_sudeste)\n",
        "\n",
        "df_ocorrencias = pd.read_csv('/home/joao/Documentos/lp/oco.csv', sep='~', header=0,\\\n",
        "         usecols=['codigo_ocorrencia','ocorrencia_classificacao', 'ocorrencia_tipo', 'ocorrencia_uf',\\\n",
        "                 'ocorrencia_latitude', 'ocorrencia_longitude', 'ocorrencia_horario', 'ocorrencia_dia'])\n",
        "\n",
        "#print(df_ocorrencias.head(5))\n",
        "#print(df_ocorrencias.shape)\n",
        "\n",
        "df_ocorrencias_sudeste = df_ocorrencias.loc[df_ocorrencias['ocorrencia_uf'].isin(['ES','MG','RJ','SP'])]\n",
        "\n",
        "df_fatores_contribuintes = pd.read_csv('/home/joao/Documentos/lp/ftc.csv', sep='~', header=0,\\\n",
        "        usecols=['codigo_ocorrencia', 'fator_nome'])\n",
        "\n",
        "#print(df_fatores_contribuintes.head(5))\n",
        "#print(df_fatores_contribuintes.shape)\n",
        "\n",
        "df_aeronaves_envolvidas = pd.read_csv('/home/joao/Documentos/lp/anv.csv', sep='~', header=0,\\\n",
        "        usecols=['codigo_ocorrencia', 'aeronave_tipo_veiculo', 'aeronave_fabricante',\\\n",
        "                'aeronave_modelo', 'aeronave_motor_tipo', 'aeronave_motor_quantidade',\\\n",
        "                        'aeronave_ano_fabricacao', 'aeronave_tipo_operacao', 'total_fatalidades'])\n",
        "\n",
        "#print(df_aeronaves_envolvidas.head(5))\n",
        "#print(df_aeronaves_envolvidas.shape)\n",
        "\n",
        "df_ocorrencias_fatores_sudeste = pd.merge(df_ocorrencias_sudeste, df_fatores_contribuintes, on='codigo_ocorrencia', how='inner')\n",
        "\n",
        "df_ocorrencias_cond_met_sudeste = df_ocorrencias_fatores_sudeste.loc[df_ocorrencias_fatores_sudeste['fator_nome'].isin(['CONDIÇÕES METEOROLÓGICAS ADVERSAS'])]\n",
        "\n",
        "#print(df_ocorrencias_cond_met_sudeste.head(5))\n",
        "#print(df_ocorrencias_fatores_sudeste.describe())\n",
        "#print(df_ocorrencias_cond_met_sudeste.shape)\n",
        "\n",
        "df_ocorrencias_cond_met_aeronaves_sudeste = pd.merge(df_ocorrencias_cond_met_sudeste, df_aeronaves_envolvidas, on='codigo_ocorrencia', how='inner')\n",
        "\n",
        "#print(df_ocorrencias_cond_met_aeronaves_sudeste.head(5))\n",
        "#print(df_ocorrencias_fatores_sudeste.describe())\n",
        "#print(df_ocorrencias_cond_met_aeronaves_sudeste.shape)\n",
        "\n",
        "#df_ocorrencias_cond_met_aeronaves_sudeste['estacao'] = None\n",
        "\n",
        "df_ocorrencias_cond_met_aeronaves_sudeste.to_csv ('/home/joao/Documentos/lp/ocorrencias_cond_met_aeronaves_sudeste.csv', index = None, header=True)\n",
        "\n",
        "\n",
        "#==============================================================================================\n",
        "\n",
        "df_met_sudeste = pd.read_csv('/home/joao/Documentos/lp/sudeste.csv', sep=',', header=0,\\\n",
        "         usecols=['wsid','wsnm', 'elvt', 'lat', 'lon', 'city', 'prov', 'mdct', 'date',\n",
        "         'yr', 'mo', 'da', 'hr', 'stp', 'gbrd', 'temp', 'hmdy', 'wdsp', 'wdct', 'gust'])\n",
        "\n",
        "#print(df_met_sudeste.head(5))\n",
        "#print(df_ocorrencias_fatores_sudeste.describe())\n",
        "#print(df_met_sudeste.shape)\n",
        "\n",
        "#===============================================================================================\n",
        "\n",
        "# def relacionar_localizacao(df1, df1_col1, df1_col2, df2, df2_col1, df2_col_2):\n",
        "#     df1_localizacao = []\n",
        "#     for i in df1.itertuples():\n",
        "#         latitude = i.df1_col1\n",
        "#         longitude = i.df1_col2\n",
        "#         df1_localizacao[0] = latitude\n",
        "#         df1_localizacao[1] = longitude\n",
        "#         print(df1_localizacao)\n",
        "\n",
        "\n",
        "def criar_dicionario_localizacao_ocorrencias(df1):\n",
        "        df1_localizacao_geral = {}\n",
        "        for index, rows in df1.iterrows():\n",
        "                df1_localizacao = []\n",
        "                codigo_ocorrencia = rows.codigo_ocorrencia\n",
        "                latitude = rows.ocorrencia_latitude\n",
        "                longitude = rows.ocorrencia_longitude\n",
        "                hora = rows.ocorrencia_horario\n",
        "                data = rows.ocorrencia_dia\n",
        "                df1_localizacao.append(index)\n",
        "                #df1_localizacao.append(codigo_ocorrencia)\n",
        "                df1_localizacao.append(latitude)\n",
        "                df1_localizacao.append(longitude)\n",
        "                df1_localizacao.append(hora)\n",
        "                df1_localizacao.append(data)\n",
        "                df1_localizacao_geral[rows.codigo_ocorrencia] = df1_localizacao\n",
        "                #print(df1_localizacao)\n",
        "\n",
        "        #print(df1_localizacao_geral)\n",
        "\n",
        "        return df1_localizacao_geral\n",
        "\n",
        "dic_ocorrencias = criar_dicionario_localizacao_ocorrencias(df_ocorrencias_cond_met_aeronaves_sudeste)\n",
        "\n",
        "\n",
        "def criar_dicionario_localizacao_estacoes(df1):\n",
        "        df1_localizacao_geral = {}\n",
        "        for i in df1.iterrows():\n",
        "                df1_localizacao = []\n",
        "                latitude = i.lat\n",
        "                longitude = i.lon\n",
        "                data_hora = i.mdct\n",
        "                df1_localizacao.append(latitude)\n",
        "                df1_localizacao.append(longitude)\n",
        "                df1_localizacao.append(data_hora)\n",
        "                df1_localizacao_geral[i.wsid] = df1_localizacao\n",
        "                #print(df1_localizacao)\n",
        "\n",
        "        print(df1_localizacao_geral)\n",
        "\n",
        "        return df1_localizacao_geral\n",
        "\n",
        "dic_estacoes = criar_dicionario_localizacao_estacoes(df_met_sudeste)\n",
        "\n",
        "#================================================================================================\n",
        "\n",
        "# Formula de Haversine\n",
        "def haversine( a, b ):\n",
        "        # Raio da Terra em Km\n",
        "        r = 6371\n",
        "        relacao_ocorrencia_estacao_12km = {}\n",
        "        for k1, v1 in a.items():\n",
        "                for k2, v2 in b.items():        \n",
        "                        # Converte coordenadas de graus para radianos\n",
        "                        lat1, lon1, lat2, lon2 = map(radians, [ v1[0], v2[1], v2[0], v2[1] ] )\n",
        "\n",
        "                        # Formula de Haversine\n",
        "                        dlon = lon2 - lon1\n",
        "                        dlat = lat2 - lat1\n",
        "                        hav = sin(dlat/2)**2 + cos(lat1) * cos(lat2) * sin(dlon/2)**2\n",
        "                        d = 2 * r * asin( sqrt(hav) )\n",
        "                        #print(d)\n",
        "                        v2_data = v2[2].split(\" \")\n",
        "                        v3_data = v1[3]\n",
        "                        if (d <= 20 and v2_data == v3_data):\n",
        "                                relacao_ocorrencia_estacao_12km[k1] = k2\n",
        "\n",
        "\n",
        "        return relacao_ocorrencia_estacao_12km\n",
        "\n",
        "print(haversine(dic_ocorrencias, dic_estacoes))\n",
        "\n",
        "#dic_haversine = haversine(dic_ocorrencias, dic_estacoes)\n",
        "\n",
        "#print((haversine(dic_ocorrencias, dic_estacoes)).keys())\n",
        "\n",
        "print(len((haversine(dic_ocorrencias, dic_estacoes)).keys()))\n",
        "\n",
        "#===============================================================================================\n",
        "\n",
        "def preencher_estacao(dic_haversine, df):\n",
        "        print(df.head(5))\n",
        "        idx = 0\n",
        "        for k,v in dic_haversine.items():\n",
        "                if (df['codigo_ocorrencia'] == k).item():\n",
        "                        df.insert(idx,'estacao', v)\n",
        "                        idx += 1\n",
        "        return df\n",
        "\n",
        "#df_ocorrencias_com_id_estacao = preencher_estacao(dic_haversine, df_ocorrencias_cond_met_aeronaves_sudeste)\n",
        "\n",
        "#print(df_ocorrencias_com_id_estacao.head())\n",
        "\n",
        "#================================================================================================\n",
        "\n",
        "def filtro_sudeste(df, dic):\n",
        "        for k,v in dic.items():\n",
        "                df_filtrado = df.loc[df['wsid'].isin([v])]\n",
        "                df_filtrado.to_csv ('/home/joao/Documentos/lp/'+str(v)+'.csv', index = None, header=True)\n",
        "\n",
        "#filtro_sudeste(df_met_sudeste,dic_haversine)"
      ],
      "execution_count": 0,
      "outputs": []
    }
  ]
}